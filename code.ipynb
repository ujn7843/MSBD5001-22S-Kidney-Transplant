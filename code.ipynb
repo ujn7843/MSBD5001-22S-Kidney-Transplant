{
 "cells": [
  {
   "cell_type": "code",
   "execution_count": 1,
   "id": "003f51b8",
   "metadata": {},
   "outputs": [],
   "source": [
    "import numpy as np\n",
    "import pandas as pd"
   ]
  },
  {
   "cell_type": "code",
   "execution_count": 2,
   "id": "214b0a20",
   "metadata": {},
   "outputs": [],
   "source": [
    "train_data = pd.read_csv('/Users/jyyang/Desktop/DA/ind_proj/data/train.csv')\n",
    "test_data = pd.read_csv('/Users/jyyang/Desktop/DA/ind_proj/data/test.csv')"
   ]
  },
  {
   "cell_type": "code",
   "execution_count": 3,
   "id": "17bef206",
   "metadata": {
    "scrolled": true
   },
   "outputs": [
    {
     "data": {
      "text/plain": [
       "Index(['id', 'MO HLADR+ MFI (cells/ul)', 'Neu CD64+MFI (cells/ul)',\n",
       "       'CD3+T (cells/ul)', 'CD8+T (cells/ul)', 'CD4+T (cells/ul)',\n",
       "       'NK (cells/ul)', 'CD19+ (cells/ul)', 'CD45+ (cells/ul)', 'Age',\n",
       "       'Sex 0M1F', 'Mono CD64+MFI (cells/ul)', 'label'],\n",
       "      dtype='object')"
      ]
     },
     "execution_count": 3,
     "metadata": {},
     "output_type": "execute_result"
    }
   ],
   "source": [
    "train_data.columns"
   ]
  },
  {
   "cell_type": "code",
   "execution_count": 5,
   "id": "391a8f3e",
   "metadata": {},
   "outputs": [
    {
     "data": {
      "text/plain": [
       "<AxesSubplot:>"
      ]
     },
     "execution_count": 5,
     "metadata": {},
     "output_type": "execute_result"
    },
    {
     "data": {
      "image/png": "[encoded data removed]",
      "text/plain": [
       "<Figure size 432x288 with 1 Axes>"
      ]
     },
     "metadata": {
      "needs_background": "light"
     },
     "output_type": "display_data"
    }
   ],
   "source": [
    "train_data[train_data['label']==1]['label'].hist()"
   ]
  },
  {
   "cell_type": "code",
   "execution_count": 7,
   "id": "6a5dcffe",
   "metadata": {
    "scrolled": true
   },
   "outputs": [
    {
     "data": {
      "text/plain": [
       "<AxesSubplot:>"
      ]
     },
     "execution_count": 7,
     "metadata": {},
     "output_type": "execute_result"
    },
    {
     "data": {
      "image/png": "[encoded data removed]",
      "text/plain": [
       "<Figure size 432x288 with 1 Axes>"
      ]
     },
     "metadata": {
      "needs_background": "light"
     },
     "output_type": "display_data"
    }
   ],
   "source": [
    "train_data[train_data['label']==0]['label'].hist()"
   ]
  },
  {
   "cell_type": "code",
   "execution_count": 18,
   "id": "30034a45",
   "metadata": {
    "scrolled": true
   },
   "outputs": [
    {
     "name": "stdout",
     "output_type": "stream",
     "text": [
      "<class 'pandas.core.frame.DataFrame'>\n",
      "RangeIndex: 87 entries, 0 to 86\n",
      "Data columns (total 13 columns):\n",
      " #   Column                    Non-Null Count  Dtype  \n",
      "---  ------                    --------------  -----  \n",
      " 0   id                        87 non-null     int64  \n",
      " 1   MO HLADR+ MFI (cells/ul)  86 non-null     float64\n",
      " 2   Neu CD64+MFI (cells/ul)   86 non-null     float64\n",
      " 3   CD3+T (cells/ul)          87 non-null     float64\n",
      " 4   CD8+T (cells/ul)          87 non-null     float64\n",
      " 5   CD4+T (cells/ul)          87 non-null     float64\n",
      " 6   NK (cells/ul)             87 non-null     float64\n",
      " 7   CD19+ (cells/ul)          87 non-null     float64\n",
      " 8   CD45+ (cells/ul)          87 non-null     float64\n",
      " 9   Age                       87 non-null     int64  \n",
      " 10  Sex 0M1F                  87 non-null     int64  \n",
      " 11  Mono CD64+MFI (cells/ul)  86 non-null     float64\n",
      " 12  label                     87 non-null     int64  \n",
      "dtypes: float64(9), int64(4)\n",
      "memory usage: 9.0 KB\n"
     ]
    }
   ],
   "source": [
    "train_data.info()"
   ]
  },
  {
   "cell_type": "code",
   "execution_count": 19,
   "id": "e754ad69",
   "metadata": {
    "scrolled": true
   },
   "outputs": [
    {
     "name": "stdout",
     "output_type": "stream",
     "text": [
      "<class 'pandas.core.frame.DataFrame'>\n",
      "RangeIndex: 59 entries, 0 to 58\n",
      "Data columns (total 12 columns):\n",
      " #   Column                    Non-Null Count  Dtype  \n",
      "---  ------                    --------------  -----  \n",
      " 0   id                        59 non-null     int64  \n",
      " 1   MO HLADR+ MFI (cells/ul)  59 non-null     float64\n",
      " 2   Neu CD64+MFI (cells/ul)   59 non-null     float64\n",
      " 3   CD3+T (cells/ul)          59 non-null     float64\n",
      " 4   CD8+T (cells/ul)          59 non-null     float64\n",
      " 5   CD4+T (cells/ul)          59 non-null     float64\n",
      " 6   NK (cells/ul)             59 non-null     float64\n",
      " 7   CD19+ (cells/ul)          59 non-null     float64\n",
      " 8   CD45+ (cells/ul)          59 non-null     float64\n",
      " 9   Age                       59 non-null     int64  \n",
      " 10  Sex 0M1F                  59 non-null     int64  \n",
      " 11  Mono CD64+MFI (cells/ul)  59 non-null     float64\n",
      "dtypes: float64(9), int64(3)\n",
      "memory usage: 5.7 KB\n"
     ]
    }
   ],
   "source": [
    "test_data.info()"
   ]
  },
  {
   "cell_type": "markdown",
   "id": "18633839",
   "metadata": {},
   "source": [
    "From above we can find that, in training data, features 'MO HLADR+ MFI (cells/ul)', 'Neu CD64+MFI (cells/ul)' and 'Mono CD64+MFI (cells/ul)' contain missing values, so in the preprocessing step, I will first use mean value to impute."
   ]
  },
  {
   "cell_type": "code",
   "execution_count": 23,
   "id": "1fb0ab87",
   "metadata": {},
   "outputs": [],
   "source": [
    "# impute missing values\n",
    "miss_val_cols = ['MO HLADR+ MFI (cells/ul)', 'Neu CD64+MFI (cells/ul)', 'Mono CD64+MFI (cells/ul)']\n",
    "for col in miss_val_cols:\n",
    "    train_data.loc[39, col] = train_data[train_data['label']==0][col].mean()\n",
    "    "
   ]
  },
  {
   "cell_type": "code",
   "execution_count": 24,
   "id": "4090c471",
   "metadata": {
    "scrolled": true
   },
   "outputs": [
    {
     "name": "stdout",
     "output_type": "stream",
     "text": [
      "<class 'pandas.core.frame.DataFrame'>\n",
      "RangeIndex: 87 entries, 0 to 86\n",
      "Data columns (total 13 columns):\n",
      " #   Column                    Non-Null Count  Dtype  \n",
      "---  ------                    --------------  -----  \n",
      " 0   id                        87 non-null     int64  \n",
      " 1   MO HLADR+ MFI (cells/ul)  87 non-null     float64\n",
      " 2   Neu CD64+MFI (cells/ul)   87 non-null     float64\n",
      " 3   CD3+T (cells/ul)          87 non-null     float64\n",
      " 4   CD8+T (cells/ul)          87 non-null     float64\n",
      " 5   CD4+T (cells/ul)          87 non-null     float64\n",
      " 6   NK (cells/ul)             87 non-null     float64\n",
      " 7   CD19+ (cells/ul)          87 non-null     float64\n",
      " 8   CD45+ (cells/ul)          87 non-null     float64\n",
      " 9   Age                       87 non-null     int64  \n",
      " 10  Sex 0M1F                  87 non-null     int64  \n",
      " 11  Mono CD64+MFI (cells/ul)  87 non-null     float64\n",
      " 12  label                     87 non-null     int64  \n",
      "dtypes: float64(9), int64(4)\n",
      "memory usage: 9.0 KB\n"
     ]
    }
   ],
   "source": [
    "train_data.info()"
   ]
  },
  {
   "cell_type": "code",
   "execution_count": 26,
   "id": "ede60e2d",
   "metadata": {},
   "outputs": [
    {
     "data": {
      "text/plain": [
       "<AxesSubplot:>"
      ]
     },
     "execution_count": 26,
     "metadata": {},
     "output_type": "execute_result"
    },
    {
     "data": {
      "image/png": "[encoded data removed]",
      "text/plain": [
       "<Figure size 432x288 with 1 Axes>"
      ]
     },
     "metadata": {
      "needs_background": "light"
     },
     "output_type": "display_data"
    }
   ],
   "source": [
    "# EDA\n",
    "col = 'Age' # change it to any of the 12 features in the feature column to see how data distributes among both healthy people and patients\n",
    "train_data[train_data['label']==0]['Age'].hist()"
   ]
  },
  {
   "cell_type": "code",
   "execution_count": 27,
   "id": "d4bb5c57",
   "metadata": {},
   "outputs": [
    {
     "data": {
      "text/plain": [
       "<AxesSubplot:>"
      ]
     },
     "execution_count": 27,
     "metadata": {},
     "output_type": "execute_result"
    },
    {
     "data": {
      "image/png": "[encoded data removed]",
      "text/plain": [
       "<Figure size 432x288 with 1 Axes>"
      ]
     },
     "metadata": {
      "needs_background": "light"
     },
     "output_type": "display_data"
    }
   ],
   "source": [
    "# EDA\n",
    "col = 'Age' # change it to any of the 12 features in the feature column to see how data distributes among both healthy people and patients\n",
    "train_data[train_data['label']==1]['Age'].hist()"
   ]
  },
  {
   "cell_type": "markdown",
   "id": "d223b899",
   "metadata": {},
   "source": [
    "2, From above exploratory data analysis we find that for patients:\n",
    "- MO HLADR+ MFI value is relatively low and range between 0 and 1000\n",
    "- Neu CD64+MFI is relatively high and specifically, people with higher than 250 values are all patients\n",
    "- CD3+T, CD8+T, CD4+T, NK, CD19+, CD45+ are not very significant among normal and sick people. It can only be inferred that some normal people have higher values and people with lower values are more likely to get sick.\n",
    "- For Mono CD64+MFI, normal people tend to have a value between 1000 and 2000, and people with values higher than 5000 are bound to be sick. \n",
    "- Age and Sex 0M1F are the least significant variables among all so I decide to remove these two when building the model"
   ]
  },
  {
   "cell_type": "code",
   "execution_count": 123,
   "id": "f6604ee5",
   "metadata": {},
   "outputs": [
    {
     "name": "stderr",
     "output_type": "stream",
     "text": [
      "/Users/jyyang/miniforge3/lib/python3.9/site-packages/sklearn/linear_model/_logistic.py:814: ConvergenceWarning: lbfgs failed to converge (status=1):\n",
      "STOP: TOTAL NO. of ITERATIONS REACHED LIMIT.\n",
      "\n",
      "Increase the number of iterations (max_iter) or scale the data as shown in:\n",
      "    https://scikit-learn.org/stable/modules/preprocessing.html\n",
      "Please also refer to the documentation for alternative solver options:\n",
      "    https://scikit-learn.org/stable/modules/linear_model.html#logistic-regression\n",
      "  n_iter_i = _check_optimize_result(\n"
     ]
    }
   ],
   "source": [
    "from sklearn.linear_model import LogisticRegression\n",
    "lr = LogisticRegression(penalty='l2').fit(train_data.drop(['Age', \\\n",
    "                                'Sex 0M1F', 'label'], axis=1), train_data['label'])\n",
    "\n"
   ]
  },
  {
   "cell_type": "code",
   "execution_count": 127,
   "id": "f2aea314",
   "metadata": {},
   "outputs": [],
   "source": [
    "preds = lr.predict(test_data.drop(['Age', 'Sex 0M1F'], axis=1))"
   ]
  },
  {
   "cell_type": "code",
   "execution_count": 128,
   "id": "8dc638cf",
   "metadata": {},
   "outputs": [],
   "source": [
    "lr_df = pd.DataFrame()\n",
    "lr_df['id'] = list(range(len(preds)))\n",
    "lr_df['label'] = preds"
   ]
  },
  {
   "cell_type": "code",
   "execution_count": 136,
   "id": "ca05227d",
   "metadata": {},
   "outputs": [],
   "source": [
    "lr_df.to_csv('submission.csv',index=None)"
   ]
  },
  {
   "cell_type": "code",
   "execution_count": 137,
   "id": "3805a1b9",
   "metadata": {},
   "outputs": [],
   "source": [
    "load_df = pd.read_csv('submission.csv')"
   ]
  },
  {
   "cell_type": "code",
   "execution_count": 138,
   "id": "3122e6cc",
   "metadata": {},
   "outputs": [
    {
     "data": {
      "text/html": [
       "<div>\n",
       "<style scoped>\n",
       "    .dataframe tbody tr th:only-of-type {\n",
       "        vertical-align: middle;\n",
       "    }\n",
       "\n",
       "    .dataframe tbody tr th {\n",
       "        vertical-align: top;\n",
       "    }\n",
       "\n",
       "    .dataframe thead th {\n",
       "        text-align: right;\n",
       "    }\n",
       "</style>\n",
       "<table border=\"1\" class=\"dataframe\">\n",
       "  <thead>\n",
       "    <tr style=\"text-align: right;\">\n",
       "      <th></th>\n",
       "      <th>id</th>\n",
       "      <th>label</th>\n",
       "    </tr>\n",
       "  </thead>\n",
       "  <tbody>\n",
       "    <tr>\n",
       "      <th>0</th>\n",
       "      <td>0</td>\n",
       "      <td>0</td>\n",
       "    </tr>\n",
       "    <tr>\n",
       "      <th>1</th>\n",
       "      <td>1</td>\n",
       "      <td>0</td>\n",
       "    </tr>\n",
       "    <tr>\n",
       "      <th>2</th>\n",
       "      <td>2</td>\n",
       "      <td>0</td>\n",
       "    </tr>\n",
       "    <tr>\n",
       "      <th>3</th>\n",
       "      <td>3</td>\n",
       "      <td>0</td>\n",
       "    </tr>\n",
       "    <tr>\n",
       "      <th>4</th>\n",
       "      <td>4</td>\n",
       "      <td>0</td>\n",
       "    </tr>\n",
       "  </tbody>\n",
       "</table>\n",
       "</div>"
      ],
      "text/plain": [
       "   id  label\n",
       "0   0      0\n",
       "1   1      0\n",
       "2   2      0\n",
       "3   3      0\n",
       "4   4      0"
      ]
     },
     "execution_count": 138,
     "metadata": {},
     "output_type": "execute_result"
    }
   ],
   "source": [
    "load_df.head()"
   ]
  }
 ],
 "metadata": {
  "kernelspec": {
   "display_name": "Python 3 (ipykernel)",
   "language": "python",
   "name": "python3"
  },
  "language_info": {
   "codemirror_mode": {
    "name": "ipython",
    "version": 3
   },
   "file_extension": ".py",
   "mimetype": "text/x-python",
   "name": "python",
   "nbconvert_exporter": "python",
   "pygments_lexer": "ipython3",
   "version": "3.9.10"
  }
 },
 "nbformat": 4,
 "nbformat_minor": 5
}
